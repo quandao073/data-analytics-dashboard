{
 "cells": [
  {
   "cell_type": "code",
   "execution_count": 1,
   "id": "d3bb03c0",
   "metadata": {},
   "outputs": [],
   "source": [
    "from pyspark.sql import SparkSession\n",
    "from pyspark.sql.types import *\n",
    "from pyspark.sql.functions import *\n",
    "\n",
    "spark = SparkSession.builder \\\n",
    "    .appName(\"Check Data\") \\\n",
    "    .master(\"local[*]\") \\\n",
    "    .config(\"spark.driver.memory\", \"4g\") \\\n",
    "    .getOrCreate()"
   ]
  },
  {
   "cell_type": "code",
   "execution_count": 2,
   "id": "cd8efc32",
   "metadata": {},
   "outputs": [],
   "source": [
    "schema = StructType([\n",
    "    StructField(\"event_time\", TimestampType(), nullable=False),\n",
    "    StructField(\"event_type\", StringType(), nullable=False),\n",
    "    StructField(\"product_id\", StringType(), nullable=False),\n",
    "    StructField(\"category_id\", StringType(), nullable=False),\n",
    "    StructField(\"category_code\", StringType(), nullable=True),\n",
    "    StructField(\"brand\", StringType(), nullable=True),\n",
    "    StructField(\"price\", DoubleType(), nullable=False),\n",
    "    StructField(\"user_id\", StringType(), nullable=False),\n",
    "    StructField(\"user_session\", StringType(), nullable=False),\n",
    "])\n"
   ]
  },
  {
   "cell_type": "code",
   "execution_count": 3,
   "id": "1f588deb",
   "metadata": {},
   "outputs": [
    {
     "name": "stdout",
     "output_type": "stream",
     "text": [
      "root\n",
      " |-- event_time: timestamp (nullable = true)\n",
      " |-- event_type: string (nullable = true)\n",
      " |-- product_id: string (nullable = true)\n",
      " |-- category_id: string (nullable = true)\n",
      " |-- category_code: string (nullable = true)\n",
      " |-- brand: string (nullable = true)\n",
      " |-- price: double (nullable = true)\n",
      " |-- user_id: string (nullable = true)\n",
      " |-- user_session: string (nullable = true)\n",
      "\n"
     ]
    }
   ],
   "source": [
    "\n",
    "path = \"./data/2020-Jan.csv\"\n",
    "\n",
    "df = spark.read.format(\"csv\").option(\"header\", \"true\").schema(schema).load(path)\n",
    "\n",
    "df.printSchema()"
   ]
  },
  {
   "cell_type": "code",
   "execution_count": 4,
   "id": "b95e6af7",
   "metadata": {},
   "outputs": [],
   "source": [
    "df_cleaned = df.dropDuplicates() \\\n",
    "        .dropna(subset=[\"event_time\", \"brand\", \"product_id\", \"category_id\", \"price\", \"user_id\", \"user_session\", \"category_code\"]) \\\n",
    "        .withColumn(\"category_level_1\", split(col(\"category_code\"), \"\\\\.\")[0]) \\\n",
    "        .withColumn(\"category_level_2\", split(col(\"category_code\"), \"\\\\.\")[1]) \\\n",
    "        .withColumn(\"category_level_3\", split(col(\"category_code\"), \"\\\\.\")[2]) \\\n",
    "        .withColumn(\"category_level_4\", split(col(\"category_code\"), \"\\\\.\")[3]) \\\n",
    "        .drop(\"category_code\") \\\n",
    "        .withColumn(\"year\", year(\"event_time\")) \\\n",
    "        .withColumn(\"month\", month(\"event_time\")) \\\n",
    "        .withColumn(\"day\", day(\"event_time\"))"
   ]
  },
  {
   "cell_type": "code",
   "execution_count": 5,
   "id": "9a5cd734",
   "metadata": {},
   "outputs": [
    {
     "name": "stdout",
     "output_type": "stream",
     "text": [
      "root\n",
      " |-- event_time: timestamp (nullable = true)\n",
      " |-- event_type: string (nullable = true)\n",
      " |-- product_id: string (nullable = true)\n",
      " |-- category_id: string (nullable = true)\n",
      " |-- brand: string (nullable = true)\n",
      " |-- price: double (nullable = true)\n",
      " |-- user_id: string (nullable = true)\n",
      " |-- user_session: string (nullable = true)\n",
      " |-- category_level_1: string (nullable = true)\n",
      " |-- category_level_2: string (nullable = true)\n",
      " |-- category_level_3: string (nullable = true)\n",
      " |-- category_level_4: string (nullable = true)\n",
      " |-- year: integer (nullable = true)\n",
      " |-- month: integer (nullable = true)\n",
      " |-- day: integer (nullable = true)\n",
      "\n"
     ]
    }
   ],
   "source": [
    "df_cleaned.printSchema()"
   ]
  },
  {
   "cell_type": "code",
   "execution_count": 21,
   "id": "0c7e7bf7",
   "metadata": {},
   "outputs": [
    {
     "name": "stdout",
     "output_type": "stream",
     "text": [
      "+----------+-----+\n",
      "|product_id|count|\n",
      "+----------+-----+\n",
      "|   3701313|    1|\n",
      "| 100038888|    1|\n",
      "|  10800206|    1|\n",
      "|   8700495|    1|\n",
      "|   4802333|    1|\n",
      "| 100003332|    1|\n",
      "|  28401278|    1|\n",
      "|  31700044|    1|\n",
      "|  16700401|    1|\n",
      "|   9200351|    1|\n",
      "|   4200507|    1|\n",
      "|  21404126|    1|\n",
      "|  18500057|    1|\n",
      "|   4803400|    1|\n",
      "|  50300571|    1|\n",
      "|  43500040|    1|\n",
      "|   1005263|    1|\n",
      "|   1801987|    1|\n",
      "|   1801967|    1|\n",
      "|  14300042|    1|\n",
      "+----------+-----+\n",
      "only showing top 20 rows\n",
      "\n"
     ]
    }
   ],
   "source": [
    "df_cleaned.select(\"product_id\", \"category_id\").distinct().groupBy(\"product_id\").count().orderBy(\"count\", ascending=False).show()"
   ]
  },
  {
   "cell_type": "code",
   "execution_count": 22,
   "id": "6ae21ea6",
   "metadata": {},
   "outputs": [
    {
     "name": "stdout",
     "output_type": "stream",
     "text": [
      "+----------+-------------------+---------+------+\n",
      "|product_id|        category_id|    brand| price|\n",
      "+----------+-------------------+---------+------+\n",
      "| 100000020|2232732065311228801|  kroskaa| 20.12|\n",
      "| 100000024|2232732105123562109|  ubisoft| 54.04|\n",
      "| 100000025|2053013553375346967| spalenka| 16.49|\n",
      "| 100000040|2053013553375346967|   adamas| 19.05|\n",
      "| 100000050|2232732081585127530|    delta|119.44|\n",
      "| 100000070|2232732081585127530|    delta|105.79|\n",
      "| 100000071|2232732081585127530|    delta| 109.4|\n",
      "| 100000097|2232732081585127530|    delta|158.31|\n",
      "| 100000112|2053013563693335403|    delta| 96.01|\n",
      "| 100000136|2053013556990837237|     emsa| 12.44|\n",
      "| 100000150|2053013556990837237|  bohemia| 28.87|\n",
      "| 100000151|2053013565782098913|  respect| 71.82|\n",
      "| 100000158|2053013556990837237|  bohemia| 26.16|\n",
      "| 100000210|2053013554415534427|      jvc|334.63|\n",
      "| 100000215|2053013555573162395|milavitsa| 23.59|\n",
      "| 100000216|2053013556462354899|      dam| 48.52|\n",
      "| 100000221|2053013553375346967|belashoff| 23.56|\n",
      "| 100000230|2053013556462354899|      dam| 56.22|\n",
      "| 100000231|2053013555573162395|milavitsa| 23.93|\n",
      "| 100000278|2053013555573162395|milavitsa| 33.35|\n",
      "+----------+-------------------+---------+------+\n",
      "only showing top 20 rows\n",
      "\n"
     ]
    }
   ],
   "source": [
    "from pyspark.sql import Window\n",
    "dim_product = df_cleaned.select(\n",
    "    \"product_id\", \"category_id\", \"brand\", \"price\"\n",
    ").distinct().groupBy(\"product_id\", \"category_id\", \"brand\").agg(\n",
    "    round(avg(\"price\"), 2).alias(\"price\")\n",
    ").distinct()\n",
    "\n",
    "\n",
    "window = Window.partitionBy(\"product_id\", \"category_id\").orderBy(\"brand\")\n",
    "dim_product = dim_product.withColumn(\"row_number\", row_number().over(window)) \\\n",
    "    .filter(\"row_number = 1\")\\\n",
    "    .drop(\"row_number\")\\\n",
    "    .distinct()\n",
    "\n",
    "dim_product.show()"
   ]
  },
  {
   "cell_type": "code",
   "execution_count": 17,
   "id": "0f540b7d",
   "metadata": {},
   "outputs": [
    {
     "name": "stdout",
     "output_type": "stream",
     "text": [
      "+----------+-----------+\n",
      "|product_id|count brand|\n",
      "+----------+-----------+\n",
      "| 100000002|          1|\n",
      "| 100000000|          1|\n",
      "| 100000009|          1|\n",
      "| 100000001|          1|\n",
      "| 100000003|          1|\n",
      "| 100000010|          1|\n",
      "| 100000024|          1|\n",
      "| 100000013|          1|\n",
      "| 100000019|          1|\n",
      "| 100000020|          1|\n",
      "| 100000046|          1|\n",
      "| 100000022|          1|\n",
      "| 100000025|          1|\n",
      "| 100000026|          1|\n",
      "| 100000056|          1|\n",
      "| 100000027|          1|\n",
      "| 100000038|          1|\n",
      "| 100000028|          1|\n",
      "| 100000078|          1|\n",
      "| 100000031|          1|\n",
      "+----------+-----------+\n",
      "only showing top 20 rows\n",
      "\n"
     ]
    }
   ],
   "source": [
    "dim_product.groupBy(\"product_id\").agg(\n",
    "    count(\"brand\").alias(\"count brand\")\n",
    ").orderBy(\"count brand\", ascending=False).show()"
   ]
  },
  {
   "cell_type": "code",
   "execution_count": 11,
   "id": "dc1f3f91",
   "metadata": {},
   "outputs": [
    {
     "name": "stdout",
     "output_type": "stream",
     "text": [
      "+----------+---------+-----+\n",
      "|product_id|    brand|price|\n",
      "+----------+---------+-----+\n",
      "|  17600723|   doliva|19.78|\n",
      "|  17600723|christina|19.78|\n",
      "+----------+---------+-----+\n",
      "\n"
     ]
    }
   ],
   "source": [
    "dim_product.filter(col(\"product_id\") == \"17600723\").distinct().show()"
   ]
  },
  {
   "cell_type": "code",
   "execution_count": 28,
   "id": "ee107f01",
   "metadata": {},
   "outputs": [],
   "source": [
    "dim_date = df.select(\n",
    "    to_date(col(\"event_time\")).alias(\"date_id\"),\n",
    "    month(\"event_time\").alias(\"month\"),\n",
    "    dayofmonth(\"event_time\").alias(\"day\"),\n",
    "    quarter(\"event_time\").alias(\"quarter\"),\n",
    "    dayofweek(\"event_time\").alias(\"day_of_week\"),\n",
    "    date_format(col(\"date_id\"), \"EEEE\").alias(\"day_name\")\n",
    ").distinct()\n",
    "\n",
    "# dim_event_type\n",
    "dim_event_type = spark.createDataFrame([\n",
    "    (\"view\", 1),\n",
    "    (\"cart\", 2),\n",
    "    (\"purchase\", 3)\n",
    "], [\"event_type_name\", \"event_type_id\"])\n",
    "\n",
    "# dim_product\n",
    "dim_product = df_cleaned.select(\n",
    "    \"product_id\", \"brand\", \"category_id\", col(\"price\").alias(\"price_current\")\n",
    ").distinct()\n",
    "\n",
    "# dim_category\n",
    "dim_category = df_cleaned.select(\n",
    "    \"category_id\", \"category_level_1\", \"category_level_2\", \"category_level_3\", \"category_level_4\"\n",
    ").distinct()"
   ]
  },
  {
   "cell_type": "code",
   "execution_count": 29,
   "id": "a46b0356",
   "metadata": {},
   "outputs": [
    {
     "name": "stdout",
     "output_type": "stream",
     "text": [
      "+----------+-----+---+-------+-----------+---------+\n",
      "|   date_id|month|day|quarter|day_of_week| day_name|\n",
      "+----------+-----+---+-------+-----------+---------+\n",
      "|2020-01-01|    1|  1|      1|          4|Wednesday|\n",
      "|2020-01-02|    1|  2|      1|          5| Thursday|\n",
      "|2020-01-03|    1|  3|      1|          6|   Friday|\n",
      "|2020-01-04|    1|  4|      1|          7| Saturday|\n",
      "|2020-01-05|    1|  5|      1|          1|   Sunday|\n",
      "|2020-01-06|    1|  6|      1|          2|   Monday|\n",
      "|2020-01-07|    1|  7|      1|          3|  Tuesday|\n",
      "|2020-01-08|    1|  8|      1|          4|Wednesday|\n",
      "|2020-01-09|    1|  9|      1|          5| Thursday|\n",
      "|2020-01-10|    1| 10|      1|          6|   Friday|\n",
      "|2020-01-11|    1| 11|      1|          7| Saturday|\n",
      "|2020-01-12|    1| 12|      1|          1|   Sunday|\n",
      "|2020-01-13|    1| 13|      1|          2|   Monday|\n",
      "|2020-01-14|    1| 14|      1|          3|  Tuesday|\n",
      "|2020-01-15|    1| 15|      1|          4|Wednesday|\n",
      "|2020-01-16|    1| 16|      1|          5| Thursday|\n",
      "|2020-01-17|    1| 17|      1|          6|   Friday|\n",
      "|2020-01-18|    1| 18|      1|          7| Saturday|\n",
      "|2020-01-19|    1| 19|      1|          1|   Sunday|\n",
      "|2020-01-20|    1| 20|      1|          2|   Monday|\n",
      "+----------+-----+---+-------+-----------+---------+\n",
      "only showing top 20 rows\n",
      "\n"
     ]
    }
   ],
   "source": [
    "dim_date.show()"
   ]
  },
  {
   "cell_type": "code",
   "execution_count": 30,
   "id": "97affa30",
   "metadata": {},
   "outputs": [],
   "source": [
    "df_count_event_by_product = df_cleaned.groupBy(\"product_id\", \"event_type\").count() \\\n",
    "        .groupBy(\"product_id\") \\\n",
    "        .pivot(\"event_type\", [\"view\", \"cart\", \"purchase\"]) \\\n",
    "        .sum(\"count\") \\\n",
    "        .fillna(0)\n",
    "\n",
    "df_count_event_by_product = df_count_event_by_product.withColumn(\"total_events\", col(\"view\") + col(\"cart\") + col(\"purchase\"))\\\n",
    "                                                     .withColumn(\"purchase_conversion\", round((col(\"purchase\") / (col(\"view\") + col(\"cart\"))) * 100, 2))\\\n",
    "                                                     .sort(\"total_events\", ascending=False)"
   ]
  },
  {
   "cell_type": "code",
   "execution_count": 31,
   "id": "891d16d9",
   "metadata": {},
   "outputs": [
    {
     "name": "stdout",
     "output_type": "stream",
     "text": [
      "+----------+------+-----+--------+------------+-------------------+\n",
      "|product_id|  view| cart|purchase|total_events|purchase_conversion|\n",
      "+----------+------+-----+--------+------------+-------------------+\n",
      "|   1004767|768721|92406|   36854|      897981|               4.28|\n",
      "|   1005115|522888|64899|   26401|      614188|               4.49|\n",
      "|   1005160|454484|38689|   11894|      505067|               2.41|\n",
      "|   1005100|389261|61243|   26996|      477500|               5.99|\n",
      "|   4804056|256735|47650|   15442|      319827|               5.07|\n",
      "|   1002544|257457|35616|   14992|      308065|               5.12|\n",
      "|   1004873|268510|23133|    9795|      301438|               3.36|\n",
      "|   1005212|239200|39409|   16553|      295162|               5.94|\n",
      "|   1005105|250436|25733|   10629|      286798|               3.85|\n",
      "|   1005174|240034|11977|    5475|      257486|               2.17|\n",
      "|   1004856|217525|23721|    9008|      250254|               3.73|\n",
      "|   4804718|218969|10470|    3386|      232825|               1.48|\n",
      "|   1004903|197430|21021|    7770|      226221|               3.56|\n",
      "|   1004249|187210|19637|    8129|      214976|               3.93|\n",
      "|   1004870|177261|18964|    7277|      203502|               3.71|\n",
      "|   1005161|164298|17034|    5623|      186955|                3.1|\n",
      "|   5100816|147307|25360|    6188|      178855|               3.58|\n",
      "|   1004785|135184| 9683|    3471|      148338|                2.4|\n",
      "|   1005159|128300|13514|    4859|      146673|               3.43|\n",
      "|   1005253|136414| 6578|    1933|      144925|               1.35|\n",
      "+----------+------+-----+--------+------------+-------------------+\n",
      "only showing top 20 rows\n",
      "\n"
     ]
    }
   ],
   "source": [
    "df_count_event_by_product.show()"
   ]
  },
  {
   "cell_type": "code",
   "execution_count": null,
   "id": "dd456766",
   "metadata": {},
   "outputs": [],
   "source": [
    "# # === FACT TABLE: fact_summary ===\n",
    "# fact = fact_events \\\n",
    "#     .join(dim_product, \"product_id\", \"left\") \\\n",
    "#     .join(dim_category, \"category_id\", \"left\") \\\n",
    "#     .join(dim_time.select(\"time_id\", to_date(\"event_time\").alias(\"date\"), \"hour\"), \"time_id\", \"left\")\n",
    "\n",
    "# fact_summary = fact.groupBy(\"date\", \"hour\", \"brand\", \"category_level_1\").agg(\n",
    "#     count(when(col(\"event_type_id\") == 1, True)).alias(\"view_count\"),\n",
    "#     count(when(col(\"event_type_id\") == 2, True)).alias(\"cart_count\"),\n",
    "#     count(when(col(\"event_type_id\") == 3, True)).alias(\"purchase_count\"),\n",
    "#     sum(when(col(\"event_type_id\") == 3, col(\"price\"))).alias(\"revenue\")\n",
    "# ).withColumn(\"conversion_rate_view_to_purchase\",\n",
    "#              round(100.0 * col(\"purchase_count\") / when(col(\"view_count\") > 0, col(\"view_count\")), 2)) \\\n",
    "#  .withColumn(\"conversion_rate_cart_to_purchase\",\n",
    "#              round(100.0 * col(\"purchase_count\") / when(col(\"cart_count\") > 0, col(\"cart_count\")), 2))"
   ]
  },
  {
   "cell_type": "code",
   "execution_count": null,
   "id": "3192aea1",
   "metadata": {},
   "outputs": [],
   "source": [
    "df_1 = df.groupBy('category_id','event_type').agg(count('*').alias('counts'))"
   ]
  },
  {
   "cell_type": "code",
   "execution_count": null,
   "id": "d6c32316",
   "metadata": {},
   "outputs": [],
   "source": [
    "df_1.groupBy(\"category_id\").pivot(\"event_type\", [\"view\", \"cart\"]).sum(\"counts\").show()"
   ]
  },
  {
   "cell_type": "code",
   "execution_count": null,
   "id": "ac4d2573",
   "metadata": {},
   "outputs": [],
   "source": [
    "df.groupBy(\"brand\").count().orderBy(\"count\", ascending=False).show()"
   ]
  },
  {
   "cell_type": "code",
   "execution_count": null,
   "id": "a2ed4a59",
   "metadata": {},
   "outputs": [],
   "source": [
    "spark.stop()"
   ]
  }
 ],
 "metadata": {
  "kernelspec": {
   "display_name": "Python 3",
   "language": "python",
   "name": "python3"
  },
  "language_info": {
   "codemirror_mode": {
    "name": "ipython",
    "version": 3
   },
   "file_extension": ".py",
   "mimetype": "text/x-python",
   "name": "python",
   "nbconvert_exporter": "python",
   "pygments_lexer": "ipython3",
   "version": "3.10.9"
  }
 },
 "nbformat": 4,
 "nbformat_minor": 5
}
