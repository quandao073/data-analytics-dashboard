{
 "cells": [
  {
   "cell_type": "code",
   "execution_count": 1,
   "id": "d3bb03c0",
   "metadata": {},
   "outputs": [],
   "source": [
    "from pyspark.sql import SparkSession\n",
    "from pyspark.sql.types import *\n",
    "from pyspark.sql.functions import *\n",
    "\n",
    "spark = SparkSession.builder \\\n",
    "    .appName(\"Check Data\") \\\n",
    "    .master(\"local[*]\") \\\n",
    "    .config(\"spark.driver.memory\", \"4g\") \\\n",
    "    .getOrCreate()"
   ]
  },
  {
   "cell_type": "code",
   "execution_count": 2,
   "id": "cd8efc32",
   "metadata": {},
   "outputs": [],
   "source": [
    "schema = StructType([\n",
    "    StructField(\"event_time\", TimestampType(), nullable=False),\n",
    "    StructField(\"event_type\", StringType(), nullable=False),\n",
    "    StructField(\"product_id\", StringType(), nullable=False),\n",
    "    StructField(\"category_id\", StringType(), nullable=False),\n",
    "    StructField(\"category_code\", StringType(), nullable=True),\n",
    "    StructField(\"brand\", StringType(), nullable=True),\n",
    "    StructField(\"price\", DoubleType(), nullable=False),\n",
    "    StructField(\"user_id\", StringType(), nullable=False),\n",
    "    StructField(\"user_session\", StringType(), nullable=False),\n",
    "])\n"
   ]
  },
  {
   "cell_type": "code",
   "execution_count": 7,
   "id": "1f588deb",
   "metadata": {},
   "outputs": [
    {
     "name": "stdout",
     "output_type": "stream",
     "text": [
      "root\n",
      " |-- event_time: timestamp (nullable = true)\n",
      " |-- event_type: string (nullable = true)\n",
      " |-- product_id: string (nullable = true)\n",
      " |-- category_id: string (nullable = true)\n",
      " |-- category_code: string (nullable = true)\n",
      " |-- brand: string (nullable = true)\n",
      " |-- price: double (nullable = true)\n",
      " |-- user_id: string (nullable = true)\n",
      " |-- user_session: string (nullable = true)\n",
      "\n"
     ]
    }
   ],
   "source": [
    "\n",
    "path = \"./data/2020-Jan.csv\"\n",
    "\n",
    "df = spark.read.format(\"csv\").option(\"header\", \"true\").schema(schema).load(path)\n",
    "\n",
    "input_year = 2020\n",
    "input_month = 1\n",
    "\n",
    "df.printSchema()"
   ]
  },
  {
   "cell_type": "code",
   "execution_count": 8,
   "id": "b95e6af7",
   "metadata": {},
   "outputs": [],
   "source": [
    "df = df.dropDuplicates() \\\n",
    "        .dropna(subset=[\"event_time\", \"brand\", \"product_id\", \"category_id\", \"price\", \"user_id\", \"user_session\", \"category_code\"]) \\\n",
    "        .filter(month(\"event_time\") == input_month)\\\n",
    "        .withColumn(\"category_level_1\", split(col(\"category_code\"), \"\\\\.\")[0]) \\\n",
    "        .withColumn(\"category_level_2\", split(col(\"category_code\"), \"\\\\.\")[1]) \\\n",
    "        .withColumn(\"category_level_3\", split(col(\"category_code\"), \"\\\\.\")[2]) \\\n",
    "        .withColumn(\"category_level_4\", split(col(\"category_code\"), \"\\\\.\")[3]) \\\n",
    "        .drop(\"category_code\") \\\n",
    "        .withColumn(\"year\", year(\"event_time\")) \\\n",
    "        .withColumn(\"month\", month(\"event_time\")) \\\n",
    "        .withColumn(\"day\", day(\"event_time\"))"
   ]
  },
  {
   "cell_type": "code",
   "execution_count": 5,
   "id": "9a5cd734",
   "metadata": {},
   "outputs": [
    {
     "name": "stdout",
     "output_type": "stream",
     "text": [
      "+-------------------+----------+----------+-------------------+-------+-------+---------+--------------------+----------------+----------------+----------------+----------------+----+-----+---+\n",
      "|         event_time|event_type|product_id|        category_id|  brand|  price|  user_id|        user_session|category_level_1|category_level_2|category_level_3|category_level_4|year|month|day|\n",
      "+-------------------+----------+----------+-------------------+-------+-------+---------+--------------------+----------------+----------------+----------------+----------------+----+-----+---+\n",
      "|2020-01-01 07:01:01|      view|   1003317|2232732093077520756|  apple|1055.37|519698804|69b5d72f-fd6e-4fe...|    construction|           tools|           light|            NULL|2020|    1|  1|\n",
      "|2020-01-01 07:01:11|      view|  10301162|2232732104888681081|     rw|  25.71|595414577|f4d26c60-9753-474...|         apparel|           scarf|            NULL|            NULL|2020|    1|  1|\n",
      "|2020-01-01 07:02:20|      view|   4804295|2232732079706079299| xiaomi|  22.41|595414899|e16d3acb-d61f-435...|           sport|         bicycle|            NULL|            NULL|2020|    1|  1|\n",
      "|2020-01-01 07:03:43|      view|  16200243|2232732108453839552|huggies|  10.37|526238299|7f47e97f-3833-47b...|     accessories|             bag|            NULL|            NULL|2020|    1|  1|\n",
      "|2020-01-01 07:03:52|      view|   1005115|2232732093077520756|  apple| 869.46|594676844|0c498362-feaf-4cd...|    construction|           tools|           light|            NULL|2020|    1|  1|\n",
      "+-------------------+----------+----------+-------------------+-------+-------+---------+--------------------+----------------+----------------+----------------+----------------+----+-----+---+\n",
      "only showing top 5 rows\n",
      "\n"
     ]
    }
   ],
   "source": [
    "df.show(5)"
   ]
  },
  {
   "cell_type": "code",
   "execution_count": null,
   "id": "afe22b4b",
   "metadata": {},
   "outputs": [],
   "source": []
  },
  {
   "cell_type": "code",
   "execution_count": 9,
   "id": "b2036b3c",
   "metadata": {},
   "outputs": [],
   "source": [
    "fact_events = df.withColumn(\"event_id\", monotonically_increasing_id())\\\n",
    "    .withColumn(\"date_id\", to_date(col(\"event_time\"))) \\\n",
    "    .withColumn(\"hour\", hour(col(\"event_time\"))) \\\n",
    "    .withColumn(\"event_type_id\",\n",
    "                when(col(\"event_type\") == \"view\", 1)\n",
    "                .when(col(\"event_type\") == \"cart\", 2)\n",
    "                .when(col(\"event_type\") == \"purchase\", 3)\n",
    "                .otherwise(None)) \\\n",
    "    .withColumn(\"revenue\", when(col(\"event_type\") == \"purchase\", col(\"price\")).otherwise(0)) \\\n",
    "    .withColumn(\"quantity\", lit(1)) \\\n",
    "    .select(\"event_id\", \"date_id\", \"hour\", \"user_id\", \"user_session\", \"product_id\", \"event_type_id\", \"revenue\", \"quantity\")"
   ]
  },
  {
   "cell_type": "code",
   "execution_count": 10,
   "id": "dd4724ab",
   "metadata": {},
   "outputs": [
    {
     "name": "stdout",
     "output_type": "stream",
     "text": [
      "+----------+-------+\n",
      "|   date_id|  count|\n",
      "+----------+-------+\n",
      "|2020-01-21|1548408|\n",
      "|2020-01-17|1650298|\n",
      "|2020-01-25|1368864|\n",
      "|2020-01-10|1339919|\n",
      "|2020-01-24|1344563|\n",
      "|2020-01-04|1506952|\n",
      "|2020-01-11|1378439|\n",
      "|2020-01-13|1390711|\n",
      "|2020-01-28|1363209|\n",
      "|2020-01-22|1425997|\n",
      "|2020-01-03|1529268|\n",
      "|2020-01-07|1451756|\n",
      "|2020-01-05|1491489|\n",
      "|2020-01-06|1457551|\n",
      "|2020-01-27|1351769|\n",
      "|2020-01-30|1391017|\n",
      "|2020-01-12|1445568|\n",
      "|2020-01-19|1843739|\n",
      "|2020-01-23|1451858|\n",
      "|2020-01-16|1490981|\n",
      "|2020-01-02|1400641|\n",
      "|2020-01-09|1346191|\n",
      "|2020-01-31|1659988|\n",
      "|2020-01-15|1338009|\n",
      "|2020-01-26|1482827|\n",
      "|2020-01-20|1617463|\n",
      "|2020-01-18|1749128|\n",
      "|2020-01-01| 934734|\n",
      "|2020-01-14|1382614|\n",
      "|2020-01-08|1400249|\n",
      "|2020-01-29|1349780|\n",
      "+----------+-------+\n",
      "\n"
     ]
    }
   ],
   "source": [
    "fact_events.groupBy(\"date_id\").count().show(40)"
   ]
  },
  {
   "cell_type": "code",
   "execution_count": 11,
   "id": "0871a96f",
   "metadata": {},
   "outputs": [],
   "source": [
    "# === FORECAST NEXT MONTH DAILY REVENUE ===\n",
    "from pyspark.ml.feature import VectorAssembler\n",
    "from pyspark.ml.regression import LinearRegression\n",
    "import calendar\n",
    "\n",
    "# Tổng doanh thu theo ngày hiện tại\n",
    "df_daily = fact_events.groupBy(\"date_id\")\\\n",
    "    .agg(sum(\"revenue\").alias(\"total_revenue\"))\\\n",
    "    .withColumn(\"day_index\", dayofmonth(\"date_id\"))\\\n",
    "    .withColumn(\"day_of_week\", dayofweek(\"date_id\"))\\\n",
    "    .withColumn(\"is_weekend\", col(\"day_of_week\").isin(1, 7).cast(\"int\"))"
   ]
  },
  {
   "cell_type": "code",
   "execution_count": 12,
   "id": "13b55b06",
   "metadata": {},
   "outputs": [
    {
     "name": "stdout",
     "output_type": "stream",
     "text": [
      "root\n",
      " |-- date_id: date (nullable = true)\n",
      " |-- total_revenue: double (nullable = true)\n",
      " |-- day_index: integer (nullable = true)\n",
      " |-- day_of_week: integer (nullable = true)\n",
      " |-- is_weekend: integer (nullable = true)\n",
      "\n"
     ]
    }
   ],
   "source": [
    "df_daily.printSchema()"
   ]
  },
  {
   "cell_type": "code",
   "execution_count": null,
   "id": "0649d410",
   "metadata": {},
   "outputs": [],
   "source": [
    "df_daily.orderBy(\"day_index\").show(35)"
   ]
  },
  {
   "cell_type": "code",
   "execution_count": 13,
   "id": "b54dff18",
   "metadata": {},
   "outputs": [],
   "source": [
    "\n",
    "# Huấn luyện Linear Regression\n",
    "feature_cols = [\"day_index\", \"day_of_week\", \"is_weekend\"]\n",
    "assembler = VectorAssembler(inputCols=feature_cols, outputCol=\"features\")\n",
    "df_features = assembler.transform(df_daily).select(\"features\", \"total_revenue\")\n",
    "\n",
    "lr = LinearRegression(featuresCol=\"features\", labelCol=\"total_revenue\")\n",
    "model = lr.fit(df_features)\n",
    "\n",
    "# Tính tháng kế tiếp và số ngày chính xác\n",
    "next_month = input_month + 1 if input_month < 12 else 1\n",
    "next_year = input_year if input_month < 12 else input_year + 1\n",
    "days_in_next_month = calendar.monthrange(next_year, next_month)[1]\n",
    "\n",
    "# Tạo dataframe day_index cho tháng kế tiếp\n",
    "future_days = spark.range(1, days_in_next_month + 1).toDF(\"day_index\")\n",
    "\n",
    "future_days = future_days.withColumn(\n",
    "    \"forecast_date\",\n",
    "    to_date(concat_ws(\"-\", lit(next_year), lpad(lit(next_month), 2, \"0\"), lpad(col(\"day_index\"), 2, \"0\")))\n",
    ")\n",
    "\n",
    "future_days = future_days.withColumn(\"day_of_week\", dayofweek(\"forecast_date\"))\\\n",
    "    .withColumn(\"is_weekend\", col(\"day_of_week\").isin(1, 7).cast(\"int\"))\n",
    "\n",
    "df_future = assembler.transform(future_days)\n",
    "predictions = model.transform(df_future)\n"
   ]
  },
  {
   "cell_type": "code",
   "execution_count": 14,
   "id": "17418fbe",
   "metadata": {},
   "outputs": [
    {
     "name": "stdout",
     "output_type": "stream",
     "text": [
      "root\n",
      " |-- day_index: long (nullable = false)\n",
      " |-- forecast_date: date (nullable = true)\n",
      " |-- day_of_week: integer (nullable = true)\n",
      " |-- is_weekend: integer (nullable = true)\n",
      " |-- features: vector (nullable = true)\n",
      " |-- prediction: double (nullable = false)\n",
      "\n"
     ]
    }
   ],
   "source": [
    "predictions.printSchema()"
   ]
  },
  {
   "cell_type": "code",
   "execution_count": 15,
   "id": "c085d199",
   "metadata": {},
   "outputs": [
    {
     "name": "stdout",
     "output_type": "stream",
     "text": [
      "+---------+-------------+-----------+----------+--------------------+\n",
      "|day_index|forecast_date|day_of_week|is_weekend|   predicted_revenue|\n",
      "+---------+-------------+-----------+----------+--------------------+\n",
      "|        1|   2020-02-01|          7|         1|   6766896.070771403|\n",
      "|        2|   2020-02-02|          1|         1|   7136916.133644527|\n",
      "|        3|   2020-02-03|          2|         0|   6340911.597130082|\n",
      "|        4|   2020-02-04|          3|         0|   6415646.008590045|\n",
      "|        5|   2020-02-05|          4|         0|   6490380.420050009|\n",
      "|        6|   2020-02-06|          5|         0|   6565114.831509973|\n",
      "|        7|   2020-02-07|          6|         0|   6639849.242969937|\n",
      "|        8|   2020-02-08|          7|         1|   7585322.602404309|\n",
      "|        9|   2020-02-09|          1|         1|   7955342.665277433|\n",
      "|       10|   2020-02-10|          2|         0|   7159338.128762987|\n",
      "|       11|   2020-02-11|          3|         0|   7234072.540222951|\n",
      "|       12|   2020-02-12|          4|         0|   7308806.951682915|\n",
      "|       13|   2020-02-13|          5|         0|   7383541.363142879|\n",
      "|       14|   2020-02-14|          6|         0|   7458275.774602842|\n",
      "|       15|   2020-02-15|          7|         1|   8403749.134037215|\n",
      "|       16|   2020-02-16|          1|         1|   8773769.196910338|\n",
      "|       17|   2020-02-17|          2|         0|   7977764.660395893|\n",
      "|       18|   2020-02-18|          3|         0|   8052499.071855857|\n",
      "|       19|   2020-02-19|          4|         0|   8127233.483315821|\n",
      "|       20|   2020-02-20|          5|         0|   8201967.894775785|\n",
      "|       21|   2020-02-21|          6|         0|   8276702.306235747|\n",
      "|       22|   2020-02-22|          7|         1|   9222175.665670121|\n",
      "|       23|   2020-02-23|          1|         1|   9592195.728543244|\n",
      "|       24|   2020-02-24|          2|         0|     8796191.1920288|\n",
      "|       25|   2020-02-25|          3|         0|   8870925.603488764|\n",
      "|       26|   2020-02-26|          4|         0|   8945660.014948726|\n",
      "|       27|   2020-02-27|          5|         0|    9020394.42640869|\n",
      "|       28|   2020-02-28|          6|         0|   9095128.837868653|\n",
      "|       29|   2020-02-29|          7|         1|1.0040602197303027E7|\n",
      "+---------+-------------+-----------+----------+--------------------+\n",
      "\n"
     ]
    }
   ],
   "source": [
    "predictions.select(\"day_index\", \"forecast_date\", \"day_of_week\", \"is_weekend\", col(\"prediction\").alias(\"predicted_revenue\")).show(32)"
   ]
  },
  {
   "cell_type": "code",
   "execution_count": null,
   "id": "17e97faf",
   "metadata": {},
   "outputs": [],
   "source": [
    "\n",
    "# Gắn cột forecast_date\n",
    "predictions = predictions.withColumn(\n",
    "    \"forecast_date\",\n",
    "    to_date(concat_ws(\"-\", lit(next_year), lpad(lit(next_month), 2, \"0\"), lpad(col(\"day_index\"), 2, \"0\")))\n",
    ").select(\"forecast_date\", col(\"prediction\").alias(\"predicted_revenue\"))"
   ]
  },
  {
   "cell_type": "code",
   "execution_count": 11,
   "id": "1021e3ab",
   "metadata": {},
   "outputs": [
    {
     "name": "stdout",
     "output_type": "stream",
     "text": [
      "+-------------+------------------+\n",
      "|forecast_date| predicted_revenue|\n",
      "+-------------+------------------+\n",
      "|   2020-02-01| 5754166.431831241|\n",
      "|   2020-02-02| 5894458.657382639|\n",
      "|   2020-02-03| 6034750.882934038|\n",
      "|   2020-02-04| 6175043.108485436|\n",
      "|   2020-02-05| 6315335.334036835|\n",
      "|   2020-02-06| 6455627.559588233|\n",
      "|   2020-02-07|6595919.7851396315|\n",
      "|   2020-02-08|  6736212.01069103|\n",
      "|   2020-02-09| 6876504.236242428|\n",
      "|   2020-02-10| 7016796.461793827|\n",
      "|   2020-02-11| 7157088.687345225|\n",
      "|   2020-02-12| 7297380.912896624|\n",
      "|   2020-02-13| 7437673.138448022|\n",
      "|   2020-02-14| 7577965.363999421|\n",
      "|   2020-02-15| 7718257.589550819|\n",
      "|   2020-02-16| 7858549.815102218|\n",
      "|   2020-02-17| 7998842.040653616|\n",
      "|   2020-02-18| 8139134.266205015|\n",
      "|   2020-02-19| 8279426.491756413|\n",
      "|   2020-02-20| 8419718.717307812|\n",
      "|   2020-02-21|  8560010.94285921|\n",
      "|   2020-02-22| 8700303.168410609|\n",
      "|   2020-02-23| 8840595.393962007|\n",
      "|   2020-02-24| 8980887.619513405|\n",
      "|   2020-02-25| 9121179.845064804|\n",
      "|   2020-02-26| 9261472.070616202|\n",
      "|   2020-02-27|   9401764.2961676|\n",
      "|   2020-02-28|    9542056.521719|\n",
      "|   2020-02-29| 9682348.747270398|\n",
      "+-------------+------------------+\n",
      "\n"
     ]
    }
   ],
   "source": [
    "predictions.show(31)"
   ]
  },
  {
   "cell_type": "code",
   "execution_count": 7,
   "id": "09add208",
   "metadata": {},
   "outputs": [],
   "source": [
    "df_hourly = fact_events.groupBy(\"hour\")\\\n",
    "    .agg(sum(\"revenue\").alias(\"total_revenue\"))\\\n",
    "    .orderBy(\"hour\")"
   ]
  },
  {
   "cell_type": "code",
   "execution_count": 12,
   "id": "308abc49",
   "metadata": {},
   "outputs": [
    {
     "name": "stdout",
     "output_type": "stream",
     "text": [
      "+----+--------------------+\n",
      "|hour|       total_revenue|\n",
      "+----+--------------------+\n",
      "|   0|1.0185247299999999E7|\n",
      "|   1|          9445669.47|\n",
      "|   2|   7666661.540000001|\n",
      "|   3|  5063888.1899999995|\n",
      "|   4|  3350407.4499999997|\n",
      "|   5|          2236155.63|\n",
      "|   6|  1503758.6599999995|\n",
      "|   7|  1157306.7999999998|\n",
      "|   8|  1314360.9200000002|\n",
      "|   9|  2888019.8400000003|\n",
      "|  10|   6866585.619999999|\n",
      "|  11|1.0618063220000003E7|\n",
      "|  12|1.3455010950000007E7|\n",
      "|  13|1.6174469229999999E7|\n",
      "|  14|1.7776628759999998E7|\n",
      "|  15|1.9247463419999994E7|\n",
      "|  16|1.8946388580000006E7|\n",
      "|  17|1.8527336190000013E7|\n",
      "|  18|1.6825393369999994E7|\n",
      "|  19|       1.530009473E7|\n",
      "+----+--------------------+\n",
      "only showing top 20 rows\n",
      "\n"
     ]
    }
   ],
   "source": [
    "df_hourly.show()"
   ]
  },
  {
   "cell_type": "code",
   "execution_count": 8,
   "id": "42d682ed",
   "metadata": {},
   "outputs": [],
   "source": [
    "from pyspark.ml.feature import VectorAssembler\n",
    "from pyspark.ml.regression import LinearRegression\n",
    "\n",
    "assembler = VectorAssembler(inputCols=[\"hour\"], outputCol=\"features\")\n",
    "df_features = assembler.transform(df_hourly).select(\"features\", \"total_revenue\")\n",
    "\n",
    "lr = LinearRegression(featuresCol=\"features\", labelCol=\"total_revenue\")\n",
    "model = lr.fit(df_features)\n"
   ]
  },
  {
   "cell_type": "code",
   "execution_count": 9,
   "id": "1d159418",
   "metadata": {},
   "outputs": [],
   "source": [
    "future_hours = spark.range(0, 24).toDF(\"hour\")\n",
    "df_future = assembler.transform(future_hours)\n",
    "predictions = model.transform(df_future)"
   ]
  },
  {
   "cell_type": "code",
   "execution_count": 11,
   "id": "87cbf2d4",
   "metadata": {},
   "outputs": [
    {
     "name": "stdout",
     "output_type": "stream",
     "text": [
      "+----+--------------------+\n",
      "|hour|   predicted_revenue|\n",
      "+----+--------------------+\n",
      "|   0|  3936860.3984666597|\n",
      "|   1|   4498036.344614486|\n",
      "|   2|   5059212.290762313|\n",
      "|   3|    5620388.23691014|\n",
      "|   4|   6181564.183057967|\n",
      "|   5|   6742740.129205793|\n",
      "|   6|   7303916.075353621|\n",
      "|   7|   7865092.021501447|\n",
      "|   8|   8426267.967649274|\n",
      "|   9|     8987443.9137971|\n",
      "|  10|   9548619.859944927|\n",
      "|  11|1.0109795806092754E7|\n",
      "|  12| 1.067097175224058E7|\n",
      "|  13|1.1232147698388407E7|\n",
      "|  14|1.1793323644536234E7|\n",
      "|  15| 1.235449959068406E7|\n",
      "|  16|1.2915675536831887E7|\n",
      "|  17|1.3476851482979715E7|\n",
      "|  18| 1.403802742912754E7|\n",
      "|  19|1.4599203375275368E7|\n",
      "+----+--------------------+\n",
      "only showing top 20 rows\n",
      "\n"
     ]
    }
   ],
   "source": [
    "predictions.select(\"hour\", col(\"prediction\").alias(\"predicted_revenue\")).show()"
   ]
  },
  {
   "cell_type": "code",
   "execution_count": 16,
   "id": "4d4f14bd",
   "metadata": {},
   "outputs": [],
   "source": [
    "dim_time = df.select(\n",
    "    hour(col(\"event_time\")).alias(\"hour\")\n",
    ").distinct()\\\n",
    ".withColumn(\"hour_label\", format_string(\"%02d:00\", col(\"hour\")))\\\n",
    ".withColumn(\"is_morning\", col(\"hour\").between(6, 11))\\\n",
    ".withColumn(\"is_afternoon\", col(\"hour\").between(12, 17))\\\n",
    ".withColumn(\"is_evening\", col(\"hour\").between(18, 21))\\\n",
    ".withColumn(\"is_night\", (col(\"hour\") >= 22) | (col(\"hour\") <= 5))\\\n",
    ".withColumn(\"hour_group\", when(col(\"hour\").between(6,11), \"Morning\")\n",
    "                         .when(col(\"hour\").between(12,17), \"Afternoon\")\n",
    "                         .when(col(\"hour\").between(18,21), \"Evening\")\n",
    "                         .otherwise(\"Night\"))"
   ]
  },
  {
   "cell_type": "code",
   "execution_count": 17,
   "id": "7c030e53",
   "metadata": {},
   "outputs": [
    {
     "name": "stdout",
     "output_type": "stream",
     "text": [
      "+----+----------+----------+------------+----------+--------+----------+\n",
      "|hour|hour_label|is_morning|is_afternoon|is_evening|is_night|hour_group|\n",
      "+----+----------+----------+------------+----------+--------+----------+\n",
      "|  12|     12:00|     false|        true|     false|   false| Afternoon|\n",
      "|  22|     22:00|     false|       false|     false|    true|     Night|\n",
      "|  13|     13:00|     false|        true|     false|   false| Afternoon|\n",
      "|  16|     16:00|     false|        true|     false|   false| Afternoon|\n",
      "|  20|     20:00|     false|       false|      true|   false|   Evening|\n",
      "|  19|     19:00|     false|       false|      true|   false|   Evening|\n",
      "|  15|     15:00|     false|        true|     false|   false| Afternoon|\n",
      "|   9|     09:00|      true|       false|     false|   false|   Morning|\n",
      "|  17|     17:00|     false|        true|     false|   false| Afternoon|\n",
      "|   8|     08:00|      true|       false|     false|   false|   Morning|\n",
      "|   7|     07:00|      true|       false|     false|   false|   Morning|\n",
      "|  10|     10:00|      true|       false|     false|   false|   Morning|\n",
      "|  21|     21:00|     false|       false|      true|   false|   Evening|\n",
      "|  11|     11:00|      true|       false|     false|   false|   Morning|\n",
      "|  14|     14:00|     false|        true|     false|   false| Afternoon|\n",
      "|  18|     18:00|     false|       false|      true|   false|   Evening|\n",
      "|   1|     01:00|     false|       false|     false|    true|     Night|\n",
      "|   6|     06:00|      true|       false|     false|   false|   Morning|\n",
      "|   3|     03:00|     false|       false|     false|    true|     Night|\n",
      "|   5|     05:00|     false|       false|     false|    true|     Night|\n",
      "+----+----------+----------+------------+----------+--------+----------+\n",
      "only showing top 20 rows\n",
      "\n"
     ]
    }
   ],
   "source": [
    "dim_time.show()"
   ]
  },
  {
   "cell_type": "code",
   "execution_count": 21,
   "id": "0c7e7bf7",
   "metadata": {},
   "outputs": [
    {
     "name": "stdout",
     "output_type": "stream",
     "text": [
      "+----------+-----+\n",
      "|product_id|count|\n",
      "+----------+-----+\n",
      "|   3701313|    1|\n",
      "| 100038888|    1|\n",
      "|  10800206|    1|\n",
      "|   8700495|    1|\n",
      "|   4802333|    1|\n",
      "| 100003332|    1|\n",
      "|  28401278|    1|\n",
      "|  31700044|    1|\n",
      "|  16700401|    1|\n",
      "|   9200351|    1|\n",
      "|   4200507|    1|\n",
      "|  21404126|    1|\n",
      "|  18500057|    1|\n",
      "|   4803400|    1|\n",
      "|  50300571|    1|\n",
      "|  43500040|    1|\n",
      "|   1005263|    1|\n",
      "|   1801987|    1|\n",
      "|   1801967|    1|\n",
      "|  14300042|    1|\n",
      "+----------+-----+\n",
      "only showing top 20 rows\n",
      "\n"
     ]
    }
   ],
   "source": [
    "df_cleaned.select(\"product_id\", \"category_id\").distinct().groupBy(\"product_id\").count().orderBy(\"count\", ascending=False).show()"
   ]
  },
  {
   "cell_type": "code",
   "execution_count": 22,
   "id": "6ae21ea6",
   "metadata": {},
   "outputs": [
    {
     "name": "stdout",
     "output_type": "stream",
     "text": [
      "+----------+-------------------+---------+------+\n",
      "|product_id|        category_id|    brand| price|\n",
      "+----------+-------------------+---------+------+\n",
      "| 100000020|2232732065311228801|  kroskaa| 20.12|\n",
      "| 100000024|2232732105123562109|  ubisoft| 54.04|\n",
      "| 100000025|2053013553375346967| spalenka| 16.49|\n",
      "| 100000040|2053013553375346967|   adamas| 19.05|\n",
      "| 100000050|2232732081585127530|    delta|119.44|\n",
      "| 100000070|2232732081585127530|    delta|105.79|\n",
      "| 100000071|2232732081585127530|    delta| 109.4|\n",
      "| 100000097|2232732081585127530|    delta|158.31|\n",
      "| 100000112|2053013563693335403|    delta| 96.01|\n",
      "| 100000136|2053013556990837237|     emsa| 12.44|\n",
      "| 100000150|2053013556990837237|  bohemia| 28.87|\n",
      "| 100000151|2053013565782098913|  respect| 71.82|\n",
      "| 100000158|2053013556990837237|  bohemia| 26.16|\n",
      "| 100000210|2053013554415534427|      jvc|334.63|\n",
      "| 100000215|2053013555573162395|milavitsa| 23.59|\n",
      "| 100000216|2053013556462354899|      dam| 48.52|\n",
      "| 100000221|2053013553375346967|belashoff| 23.56|\n",
      "| 100000230|2053013556462354899|      dam| 56.22|\n",
      "| 100000231|2053013555573162395|milavitsa| 23.93|\n",
      "| 100000278|2053013555573162395|milavitsa| 33.35|\n",
      "+----------+-------------------+---------+------+\n",
      "only showing top 20 rows\n",
      "\n"
     ]
    }
   ],
   "source": [
    "from pyspark.sql import Window\n",
    "dim_product = df_cleaned.select(\n",
    "    \"product_id\", \"category_id\", \"brand\", \"price\"\n",
    ").distinct().groupBy(\"product_id\", \"category_id\", \"brand\").agg(\n",
    "    round(avg(\"price\"), 2).alias(\"price\")\n",
    ").distinct()\n",
    "\n",
    "\n",
    "window = Window.partitionBy(\"product_id\", \"category_id\").orderBy(\"brand\")\n",
    "dim_product = dim_product.withColumn(\"row_number\", row_number().over(window)) \\\n",
    "    .filter(\"row_number = 1\")\\\n",
    "    .drop(\"row_number\")\\\n",
    "    .distinct()\n",
    "\n",
    "dim_product.show()"
   ]
  },
  {
   "cell_type": "code",
   "execution_count": 17,
   "id": "0f540b7d",
   "metadata": {},
   "outputs": [
    {
     "name": "stdout",
     "output_type": "stream",
     "text": [
      "+----------+-----------+\n",
      "|product_id|count brand|\n",
      "+----------+-----------+\n",
      "| 100000002|          1|\n",
      "| 100000000|          1|\n",
      "| 100000009|          1|\n",
      "| 100000001|          1|\n",
      "| 100000003|          1|\n",
      "| 100000010|          1|\n",
      "| 100000024|          1|\n",
      "| 100000013|          1|\n",
      "| 100000019|          1|\n",
      "| 100000020|          1|\n",
      "| 100000046|          1|\n",
      "| 100000022|          1|\n",
      "| 100000025|          1|\n",
      "| 100000026|          1|\n",
      "| 100000056|          1|\n",
      "| 100000027|          1|\n",
      "| 100000038|          1|\n",
      "| 100000028|          1|\n",
      "| 100000078|          1|\n",
      "| 100000031|          1|\n",
      "+----------+-----------+\n",
      "only showing top 20 rows\n",
      "\n"
     ]
    }
   ],
   "source": [
    "dim_product.groupBy(\"product_id\").agg(\n",
    "    count(\"brand\").alias(\"count brand\")\n",
    ").orderBy(\"count brand\", ascending=False).show()"
   ]
  },
  {
   "cell_type": "code",
   "execution_count": 11,
   "id": "dc1f3f91",
   "metadata": {},
   "outputs": [
    {
     "name": "stdout",
     "output_type": "stream",
     "text": [
      "+----------+---------+-----+\n",
      "|product_id|    brand|price|\n",
      "+----------+---------+-----+\n",
      "|  17600723|   doliva|19.78|\n",
      "|  17600723|christina|19.78|\n",
      "+----------+---------+-----+\n",
      "\n"
     ]
    }
   ],
   "source": [
    "dim_product.filter(col(\"product_id\") == \"17600723\").distinct().show()"
   ]
  },
  {
   "cell_type": "code",
   "execution_count": 28,
   "id": "ee107f01",
   "metadata": {},
   "outputs": [],
   "source": [
    "dim_date = df.select(\n",
    "    to_date(col(\"event_time\")).alias(\"date_id\"),\n",
    "    month(\"event_time\").alias(\"month\"),\n",
    "    dayofmonth(\"event_time\").alias(\"day\"),\n",
    "    quarter(\"event_time\").alias(\"quarter\"),\n",
    "    dayofweek(\"event_time\").alias(\"day_of_week\"),\n",
    "    date_format(col(\"date_id\"), \"EEEE\").alias(\"day_name\")\n",
    ").distinct()\n",
    "\n",
    "# dim_event_type\n",
    "dim_event_type = spark.createDataFrame([\n",
    "    (\"view\", 1),\n",
    "    (\"cart\", 2),\n",
    "    (\"purchase\", 3)\n",
    "], [\"event_type_name\", \"event_type_id\"])\n",
    "\n",
    "# dim_product\n",
    "dim_product = df_cleaned.select(\n",
    "    \"product_id\", \"brand\", \"category_id\", col(\"price\").alias(\"price_current\")\n",
    ").distinct()\n",
    "\n",
    "# dim_category\n",
    "dim_category = df_cleaned.select(\n",
    "    \"category_id\", \"category_level_1\", \"category_level_2\", \"category_level_3\", \"category_level_4\"\n",
    ").distinct()"
   ]
  },
  {
   "cell_type": "code",
   "execution_count": 29,
   "id": "a46b0356",
   "metadata": {},
   "outputs": [
    {
     "name": "stdout",
     "output_type": "stream",
     "text": [
      "+----------+-----+---+-------+-----------+---------+\n",
      "|   date_id|month|day|quarter|day_of_week| day_name|\n",
      "+----------+-----+---+-------+-----------+---------+\n",
      "|2020-01-01|    1|  1|      1|          4|Wednesday|\n",
      "|2020-01-02|    1|  2|      1|          5| Thursday|\n",
      "|2020-01-03|    1|  3|      1|          6|   Friday|\n",
      "|2020-01-04|    1|  4|      1|          7| Saturday|\n",
      "|2020-01-05|    1|  5|      1|          1|   Sunday|\n",
      "|2020-01-06|    1|  6|      1|          2|   Monday|\n",
      "|2020-01-07|    1|  7|      1|          3|  Tuesday|\n",
      "|2020-01-08|    1|  8|      1|          4|Wednesday|\n",
      "|2020-01-09|    1|  9|      1|          5| Thursday|\n",
      "|2020-01-10|    1| 10|      1|          6|   Friday|\n",
      "|2020-01-11|    1| 11|      1|          7| Saturday|\n",
      "|2020-01-12|    1| 12|      1|          1|   Sunday|\n",
      "|2020-01-13|    1| 13|      1|          2|   Monday|\n",
      "|2020-01-14|    1| 14|      1|          3|  Tuesday|\n",
      "|2020-01-15|    1| 15|      1|          4|Wednesday|\n",
      "|2020-01-16|    1| 16|      1|          5| Thursday|\n",
      "|2020-01-17|    1| 17|      1|          6|   Friday|\n",
      "|2020-01-18|    1| 18|      1|          7| Saturday|\n",
      "|2020-01-19|    1| 19|      1|          1|   Sunday|\n",
      "|2020-01-20|    1| 20|      1|          2|   Monday|\n",
      "+----------+-----+---+-------+-----------+---------+\n",
      "only showing top 20 rows\n",
      "\n"
     ]
    }
   ],
   "source": [
    "dim_date.show()"
   ]
  },
  {
   "cell_type": "code",
   "execution_count": 30,
   "id": "97affa30",
   "metadata": {},
   "outputs": [],
   "source": [
    "df_count_event_by_product = df_cleaned.groupBy(\"product_id\", \"event_type\").count() \\\n",
    "        .groupBy(\"product_id\") \\\n",
    "        .pivot(\"event_type\", [\"view\", \"cart\", \"purchase\"]) \\\n",
    "        .sum(\"count\") \\\n",
    "        .fillna(0)\n",
    "\n",
    "df_count_event_by_product = df_count_event_by_product.withColumn(\"total_events\", col(\"view\") + col(\"cart\") + col(\"purchase\"))\\\n",
    "                                                     .withColumn(\"purchase_conversion\", round((col(\"purchase\") / (col(\"view\") + col(\"cart\"))) * 100, 2))\\\n",
    "                                                     .sort(\"total_events\", ascending=False)"
   ]
  },
  {
   "cell_type": "code",
   "execution_count": 31,
   "id": "891d16d9",
   "metadata": {},
   "outputs": [
    {
     "name": "stdout",
     "output_type": "stream",
     "text": [
      "+----------+------+-----+--------+------------+-------------------+\n",
      "|product_id|  view| cart|purchase|total_events|purchase_conversion|\n",
      "+----------+------+-----+--------+------------+-------------------+\n",
      "|   1004767|768721|92406|   36854|      897981|               4.28|\n",
      "|   1005115|522888|64899|   26401|      614188|               4.49|\n",
      "|   1005160|454484|38689|   11894|      505067|               2.41|\n",
      "|   1005100|389261|61243|   26996|      477500|               5.99|\n",
      "|   4804056|256735|47650|   15442|      319827|               5.07|\n",
      "|   1002544|257457|35616|   14992|      308065|               5.12|\n",
      "|   1004873|268510|23133|    9795|      301438|               3.36|\n",
      "|   1005212|239200|39409|   16553|      295162|               5.94|\n",
      "|   1005105|250436|25733|   10629|      286798|               3.85|\n",
      "|   1005174|240034|11977|    5475|      257486|               2.17|\n",
      "|   1004856|217525|23721|    9008|      250254|               3.73|\n",
      "|   4804718|218969|10470|    3386|      232825|               1.48|\n",
      "|   1004903|197430|21021|    7770|      226221|               3.56|\n",
      "|   1004249|187210|19637|    8129|      214976|               3.93|\n",
      "|   1004870|177261|18964|    7277|      203502|               3.71|\n",
      "|   1005161|164298|17034|    5623|      186955|                3.1|\n",
      "|   5100816|147307|25360|    6188|      178855|               3.58|\n",
      "|   1004785|135184| 9683|    3471|      148338|                2.4|\n",
      "|   1005159|128300|13514|    4859|      146673|               3.43|\n",
      "|   1005253|136414| 6578|    1933|      144925|               1.35|\n",
      "+----------+------+-----+--------+------------+-------------------+\n",
      "only showing top 20 rows\n",
      "\n"
     ]
    }
   ],
   "source": [
    "df_count_event_by_product.show()"
   ]
  },
  {
   "cell_type": "code",
   "execution_count": null,
   "id": "dd456766",
   "metadata": {},
   "outputs": [],
   "source": [
    "# # === FACT TABLE: fact_summary ===\n",
    "# fact = fact_events \\\n",
    "#     .join(dim_product, \"product_id\", \"left\") \\\n",
    "#     .join(dim_category, \"category_id\", \"left\") \\\n",
    "#     .join(dim_time.select(\"time_id\", to_date(\"event_time\").alias(\"date\"), \"hour\"), \"time_id\", \"left\")\n",
    "\n",
    "# fact_summary = fact.groupBy(\"date\", \"hour\", \"brand\", \"category_level_1\").agg(\n",
    "#     count(when(col(\"event_type_id\") == 1, True)).alias(\"view_count\"),\n",
    "#     count(when(col(\"event_type_id\") == 2, True)).alias(\"cart_count\"),\n",
    "#     count(when(col(\"event_type_id\") == 3, True)).alias(\"purchase_count\"),\n",
    "#     sum(when(col(\"event_type_id\") == 3, col(\"price\"))).alias(\"revenue\")\n",
    "# ).withColumn(\"conversion_rate_view_to_purchase\",\n",
    "#              round(100.0 * col(\"purchase_count\") / when(col(\"view_count\") > 0, col(\"view_count\")), 2)) \\\n",
    "#  .withColumn(\"conversion_rate_cart_to_purchase\",\n",
    "#              round(100.0 * col(\"purchase_count\") / when(col(\"cart_count\") > 0, col(\"cart_count\")), 2))"
   ]
  },
  {
   "cell_type": "code",
   "execution_count": null,
   "id": "3192aea1",
   "metadata": {},
   "outputs": [],
   "source": [
    "df_1 = df.groupBy('category_id','event_type').agg(count('*').alias('counts'))"
   ]
  },
  {
   "cell_type": "code",
   "execution_count": null,
   "id": "d6c32316",
   "metadata": {},
   "outputs": [],
   "source": [
    "df_1.groupBy(\"category_id\").pivot(\"event_type\", [\"view\", \"cart\"]).sum(\"counts\").show()"
   ]
  },
  {
   "cell_type": "code",
   "execution_count": null,
   "id": "ac4d2573",
   "metadata": {},
   "outputs": [],
   "source": [
    "df.groupBy(\"brand\").count().orderBy(\"count\", ascending=False).show()"
   ]
  },
  {
   "cell_type": "code",
   "execution_count": null,
   "id": "a2ed4a59",
   "metadata": {},
   "outputs": [],
   "source": [
    "spark.stop()"
   ]
  }
 ],
 "metadata": {
  "kernelspec": {
   "display_name": "Python 3",
   "language": "python",
   "name": "python3"
  },
  "language_info": {
   "codemirror_mode": {
    "name": "ipython",
    "version": 3
   },
   "file_extension": ".py",
   "mimetype": "text/x-python",
   "name": "python",
   "nbconvert_exporter": "python",
   "pygments_lexer": "ipython3",
   "version": "3.10.9"
  }
 },
 "nbformat": 4,
 "nbformat_minor": 5
}
